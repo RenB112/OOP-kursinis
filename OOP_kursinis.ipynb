{
  "nbformat": 4,
  "nbformat_minor": 0,
  "metadata": {
    "colab": {
      "provenance": []
    },
    "kernelspec": {
      "name": "python3",
      "display_name": "Python 3"
    },
    "language_info": {
      "name": "python"
    }
  },
  "cells": [
    {
      "cell_type": "markdown",
      "source": [
        "Renaldas Badikonis, Ef-23/2, OOP kursinis darbas, Tema: Store inventory management"
      ],
      "metadata": {
        "id": "2X95eVmuKe1S"
      }
    },
    {
      "cell_type": "code",
      "execution_count": 4,
      "metadata": {
        "id": "HLSJw3fDICms"
      },
      "outputs": [],
      "source": [
        "import csv\n",
        "\n",
        "# Creating inventory.csv\n",
        "inventory_data = [\n",
        "    [\"Laptop\", 1000.0],\n",
        "    [\"Phone\", 500.0]\n",
        "]\n",
        "\n",
        "with open(\"inventory.csv\", \"w\") as file:\n",
        "    writer = csv.writer(file)\n",
        "    writer.writerows(inventory_data)\n",
        "\n",
        "# Creating transactions.csv (empty)\n",
        "with open(\"transactions.csv\", \"w\"):\n",
        "    pass"
      ]
    },
    {
      "cell_type": "markdown",
      "source": [],
      "metadata": {
        "id": "jYPjxyZ3To3R"
      }
    },
    {
      "cell_type": "code",
      "source": [
        "import csv\n",
        "import unittest\n",
        "\n",
        "# 1. 4 OOP Pillars:\n",
        "# 1)Polymorphism\n",
        "class Item:\n",
        "    def __init__(self, name, price):\n",
        "        self.name = name\n",
        "        self.price = price\n",
        "\n",
        "    def get_description(self):\n",
        "        pass\n",
        "\n",
        "class Laptop(Item):\n",
        "    def __init__(self, name, price, specs):\n",
        "        super().__init__(name, price)\n",
        "        self.specs = specs\n",
        "\n",
        "    def get_description(self):\n",
        "        return f\"{self.name} Laptop with {', '.join(self.specs)}\"\n",
        "\n",
        "class Phone(Item):\n",
        "    def __init__(self, name, price, storage):\n",
        "        super().__init__(name, price)\n",
        "        self.storage = storage\n",
        "\n",
        "    def get_description(self):\n",
        "        return f\"{self.storage} {self.name}\"\n",
        "\n",
        "# 2)Abstraction\n",
        "from abc import ABC, abstractmethod\n",
        "\n",
        "class Database(ABC):\n",
        "    @abstractmethod\n",
        "    def add_data(self, key, value):\n",
        "        pass\n",
        "\n",
        "    @abstractmethod\n",
        "    def get_data(self, key):\n",
        "        pass\n",
        "\n",
        "# 3,4)Inheritance and Encapsulation\n",
        "# Design Patterns: 1)Singleton\n",
        "class Singleton(Database):\n",
        "    _instance = None\n",
        "\n",
        "    def __new__(cls, *args, **kwargs):\n",
        "        if not cls._instance:\n",
        "            cls._instance = super().__new__(cls, *args, **kwargs)\n",
        "        return cls._instance\n",
        "\n",
        "    def __init__(self):\n",
        "        self.data = {}\n",
        "\n",
        "    def add_data(self, key, value):\n",
        "        self.data[key] = value\n",
        "\n",
        "    def get_data(self, key):\n",
        "        return self.data.get(key)\n",
        "\n",
        "# 2. Design Patterns\n",
        "# 2)Factory Method\n",
        "class ItemFactory:\n",
        "    @staticmethod\n",
        "    def create_item(item_type, name, price, *args, **kwargs):\n",
        "        if item_type == \"Laptop\":\n",
        "            return Laptop(name, price, *args, **kwargs)\n",
        "        elif item_type == \"Phone\":\n",
        "            return Phone(name, price, *args, **kwargs)\n",
        "        else:\n",
        "            raise ValueError(\"Invalid item type\")\n",
        "\n",
        "# 3. Reading from file & writing to file\n",
        "class Store:\n",
        "    def __init__(self, inventory_file, transaction_file):\n",
        "        self.inventory_file = inventory_file\n",
        "        self.transaction_file = transaction_file\n",
        "        self.inventory = self.load_inventory()\n",
        "\n",
        "    def load_inventory(self):\n",
        "        inventory = {}\n",
        "        with open(self.inventory_file, 'r') as file:\n",
        "            reader = csv.reader(file)\n",
        "            for row in reader:\n",
        "                inventory[row[0]] = float(row[1])\n",
        "        return inventory\n",
        "\n",
        "    def save_transaction(self, transaction):\n",
        "        with open(self.transaction_file, 'a', newline='') as file:\n",
        "            writer = csv.writer(file)\n",
        "            writer.writerow(transaction)\n",
        "\n",
        "# 4. Testing\n",
        "class TestDatabase(unittest.TestCase):\n",
        "    def setUp(self):\n",
        "        self.db = Singleton()\n",
        "\n",
        "    def test_singleton(self):\n",
        "        self.assertIs(self.db, Singleton(), \"Singleton instances are not the same\")\n",
        "\n",
        "    def test_add_data(self):\n",
        "        self.db.add_data(\"1\", \"Laptop\")\n",
        "        self.assertEqual(self.db.get_data(\"1\"), \"Laptop\")\n",
        "\n",
        "# Usage\n",
        "# Creating Store instance\n",
        "store = Store(\"inventory.csv\", \"transactions.csv\")\n",
        "print(\"Inventory loaded:\", store.inventory)\n",
        "\n",
        "# Creating item instances\n",
        "laptop = ItemFactory.create_item(\"Laptop\", \"Dell\", 1000, [\"Intel i5\", \"8GB RAM\", \"256GB SSD\"])\n",
        "phone = ItemFactory.create_item(\"Phone\", \"iPhone\", 500, \"128GB\")\n",
        "\n",
        "print(laptop.get_description())\n",
        "print(phone.get_description())\n",
        "\n",
        "# Saving a transaction\n",
        "transaction = [\"Dell\", 1, 1000.0]  # Item, Quantity, Total Price\n",
        "store.save_transaction(transaction)\n",
        "print(\"Transaction saved:\", transaction)\n",
        "\n",
        "# Running tests\n",
        "unittest.main(argv=[''], exit=False)\n"
      ],
      "metadata": {
        "colab": {
          "base_uri": "https://localhost:8080/"
        },
        "id": "4DgdZwsoKmeO",
        "outputId": "0a9ce53c-e807-436c-a4c2-4ea987a49f26"
      },
      "execution_count": 5,
      "outputs": [
        {
          "output_type": "stream",
          "name": "stderr",
          "text": [
            "..\n",
            "----------------------------------------------------------------------\n",
            "Ran 2 tests in 0.004s\n",
            "\n",
            "OK\n"
          ]
        },
        {
          "output_type": "stream",
          "name": "stdout",
          "text": [
            "Inventory loaded: {'Laptop': 1000.0, 'Phone': 500.0}\n",
            "Dell Laptop with Intel i5, 8GB RAM, 256GB SSD\n",
            "128GB iPhone\n",
            "Transaction saved: ['Dell', 1, 1000.0]\n"
          ]
        },
        {
          "output_type": "execute_result",
          "data": {
            "text/plain": [
              "<unittest.main.TestProgram at 0x7a3ecb1e24a0>"
            ]
          },
          "metadata": {},
          "execution_count": 5
        }
      ]
    }
  ]
}